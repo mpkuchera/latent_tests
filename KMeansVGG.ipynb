{
 "cells": [
  {
   "cell_type": "markdown",
   "metadata": {},
   "source": [
    "## Testing the standard deviation of multiple clustering attempts of VGG16 latent space AT-TPC data"
   ]
  },
  {
   "cell_type": "code",
   "execution_count": 15,
   "metadata": {},
   "outputs": [],
   "source": [
    "import numpy as np\n",
    "#import tensorflow as tf\n",
    "import sklearn as sk\n",
    "from sklearn.cluster import KMeans\n",
    "import matplotlib.pyplot as plt"
   ]
  },
  {
   "cell_type": "code",
   "execution_count": 16,
   "metadata": {},
   "outputs": [],
   "source": [
    "A = np.load(\"vgg_repr.npz\")"
   ]
  },
  {
   "cell_type": "code",
   "execution_count": 17,
   "metadata": {},
   "outputs": [
    {
     "name": "stdout",
     "output_type": "stream",
     "text": [
      "raw_data\n",
      "filtered_data\n",
      "filtered_targets\n",
      "raw_targets\n"
     ]
    }
   ],
   "source": [
    "for k in A.keys():\n",
    "    print(k)"
   ]
  },
  {
   "cell_type": "code",
   "execution_count": 18,
   "metadata": {},
   "outputs": [],
   "source": [
    "raw = A[\"raw_data\"]\n",
    "filt = A[\"filtered_data\"]\n",
    "raw_t = A[\"raw_targets\"]\n",
    "filt_t = A[\"filtered_targets\"]"
   ]
  },
  {
   "cell_type": "code",
   "execution_count": 19,
   "metadata": {},
   "outputs": [
    {
     "name": "stdout",
     "output_type": "stream",
     "text": [
      "(51891, 8192)\n",
      "(100, 8192)\n"
     ]
    }
   ],
   "source": [
    "print(raw.shape)\n",
    "raw_small = raw[:100]\n",
    "print(raw_small.shape)"
   ]
  },
  {
   "cell_type": "code",
   "execution_count": 45,
   "metadata": {},
   "outputs": [
    {
     "name": "stdout",
     "output_type": "stream",
     "text": [
      "(3, 8192)\n",
      "(3, 8192)\n"
     ]
    },
    {
     "data": {
      "text/plain": [
       "(array([7.53e+03, 5.14e+02, 1.06e+02, 2.10e+01, 1.50e+01, 3.00e+00,\n",
       "        1.00e+00, 0.00e+00, 0.00e+00, 2.00e+00]),\n",
       " array([0.        , 0.10766652, 0.21533303, 0.32299955, 0.43066607,\n",
       "        0.53833258, 0.6459991 , 0.75366562, 0.86133213, 0.96899865,\n",
       "        1.07666517]),\n",
       " <a list of 10 Patch objects>)"
      ]
     },
     "execution_count": 45,
     "metadata": {},
     "output_type": "execute_result"
    },
    {
     "data": {
      "image/png": "[encoded data removed]",
      "text/plain": [
       "<Figure size 432x288 with 1 Axes>"
      ]
     },
     "metadata": {
      "needs_background": "light"
     },
     "output_type": "display_data"
    }
   ],
   "source": [
    "N = 10\n",
    "y = []\n",
    "for i in range(N):\n",
    "    y.append(KMeans(n_clusters=3, n_init=1).fit(raw_small))\n",
    "\n"
   ]
  },
  {
   "cell_type": "code",
   "execution_count": 46,
   "metadata": {},
   "outputs": [
    {
     "name": "stdout",
     "output_type": "stream",
     "text": [
      "(3, 8192)\n",
      "(3, 8192)\n"
     ]
    },
    {
     "data": {
      "text/plain": [
       "(array([7.542e+03, 4.960e+02, 1.100e+02, 2.200e+01, 1.600e+01, 3.000e+00,\n",
       "        1.000e+00, 0.000e+00, 0.000e+00, 2.000e+00]),\n",
       " array([0.        , 0.11905036, 0.23810072, 0.35715108, 0.47620144,\n",
       "        0.5952518 , 0.71430216, 0.83335252, 0.95240288, 1.07145324,\n",
       "        1.1905036 ]),\n",
       " <a list of 10 Patch objects>)"
      ]
     },
     "execution_count": 46,
     "metadata": {},
     "output_type": "execute_result"
    },
    {
     "data": {
      "image/png": "[encoded data removed]",
      "text/plain": [
       "<Figure size 432x288 with 1 Axes>"
      ]
     },
     "metadata": {
      "needs_background": "light"
     },
     "output_type": "display_data"
    }
   ],
   "source": [
    "#print(y)\n",
    "\n",
    "centers = []\n",
    "for i in range(N):\n",
    "    centers.append(y[i].cluster_centers_)\n",
    "centers = np.array(centers)\n",
    "center_means = np.mean(centers, axis=0)\n",
    "center_std = np.std(centers, axis=0)\n",
    "print(center_means.shape)\n",
    "print(center_std.shape)\n",
    "plt.hist(center_std[0])\n",
    "\n",
    "plt.hist(center_std[1])\n",
    "\n",
    "plt.hist(center_std[2])\n",
    "#y1 = KMeans(n_clusters=3, n_init=1).fit(raw_small)\n",
    "#y2 = KMeans(n_clusters=3, n_init=1).fit(raw_small)\n",
    "#y3 = KMeans(n_clusters=3, n_init=1).fit(raw_small)"
   ]
  },
  {
   "cell_type": "code",
   "execution_count": 32,
   "metadata": {},
   "outputs": [
    {
     "name": "stdout",
     "output_type": "stream",
     "text": [
      "[2 2 2 2 2 2 2 0 0 0 2 2 2 2 2 0 2 1 0 2 2 2 2 2 2 1 2 2 0 0 1 2 0 0 2 2 2\n",
      " 0 1 0 0 2 2 2 1 1 0 2 0 0 2 2 0 0 0 2 2 2 2 2 0 0 0 0 0 0 2 0 0 2 2 0 0 0\n",
      " 0 0 2 2 2 2 0 0 0 0 2 0 2 2 2 2 2 1 0 2 2 2 2 0 2 2]\n",
      "[2 2 2 2 2 2 2 0 0 0 2 2 1 2 2 0 2 0 1 1 2 2 2 2 2 0 2 2 0 0 0 1 0 0 2 2 1\n",
      " 0 0 0 0 1 1 2 0 0 0 2 0 1 2 1 1 0 0 1 2 2 1 2 0 0 1 0 0 0 2 1 1 1 1 0 0 1\n",
      " 0 0 2 1 2 1 0 0 0 0 1 1 1 1 1 1 1 0 0 2 1 1 2 1 1 1]\n",
      "[1 1 1 1 1 1 1 2 2 2 1 0 1 1 1 2 1 0 2 1 1 1 1 1 1 0 1 1 2 2 0 1 2 2 1 1 1\n",
      " 2 0 2 2 1 1 1 0 0 0 1 2 2 1 1 2 2 2 1 1 1 1 1 2 2 2 2 2 2 1 2 2 1 1 2 2 2\n",
      " 0 2 1 1 1 1 2 2 2 2 1 2 1 1 1 1 1 0 2 1 1 1 1 2 1 1]\n",
      "21\n",
      "-9\n"
     ]
    }
   ],
   "source": [
    "print(y1.labels_)\n",
    "print(y2.labels_)\n",
    "print(y3.labels_)\n",
    "print(np.sum(y1.labels_-y2.labels_))\n",
    "print(np.sum(y1.labels_-y3.labels_))\n",
    "#print(y.cluster_centers_)"
   ]
  },
  {
   "cell_type": "code",
   "execution_count": 33,
   "metadata": {},
   "outputs": [
    {
     "name": "stdout",
     "output_type": "stream",
     "text": [
      "[[ 1.21081480e-01  0.00000000e+00  0.00000000e+00 ... -1.73472348e-18\n",
      "   7.15575083e-01  0.00000000e+00]\n",
      " [ 1.57918922e-01  0.00000000e+00  0.00000000e+00 ...  4.21134148e-02\n",
      "   8.52946528e-01  0.00000000e+00]\n",
      " [ 1.31745275e-01  0.00000000e+00  0.00000000e+00 ...  1.22565979e-04\n",
      "   7.60672009e-01  0.00000000e+00]]\n",
      "[[ 1.19858810e-01  0.00000000e+00  0.00000000e+00 ...  8.18871955e-03\n",
      "   7.39627083e-01  0.00000000e+00]\n",
      " [ 1.34299707e-01  0.00000000e+00  0.00000000e+00 ... -1.30104261e-18\n",
      "   7.30555881e-01  0.00000000e+00]\n",
      " [ 1.35625345e-01  0.00000000e+00  0.00000000e+00 ...  2.10660277e-04\n",
      "   7.81096131e-01  0.00000000e+00]]\n",
      "[[ 1.41208214e-01  0.00000000e+00  0.00000000e+00 ...  3.01535033e-02\n",
      "   8.18860686e-01  0.00000000e+00]\n",
      " [ 1.32511454e-01  0.00000000e+00  0.00000000e+00 ...  4.33680869e-19\n",
      "   7.59307492e-01  0.00000000e+00]\n",
      " [ 1.21800504e-01  0.00000000e+00  0.00000000e+00 ... -1.73472348e-18\n",
      "   7.16895221e-01  0.00000000e+00]]\n"
     ]
    }
   ],
   "source": [
    "print(y1.cluster_centers_)\n",
    "print(y2.cluster_centers_)\n",
    "print(y3.cluster_centers_)"
   ]
  },
  {
   "cell_type": "code",
   "execution_count": 25,
   "metadata": {},
   "outputs": [
    {
     "data": {
      "text/plain": [
       "3529.250504864685"
      ]
     },
     "execution_count": 25,
     "metadata": {},
     "output_type": "execute_result"
    }
   ],
   "source": [
    "plt.hist(y.cluster_centers_[0])\n",
    "#plt.hist(y.cluster_centers_[1])\n",
    "#plt.hist(y.cluster_centers_[2])\n",
    "y.inertia_"
   ]
  },
  {
   "cell_type": "code",
   "execution_count": 27,
   "metadata": {},
   "outputs": [
    {
     "data": {
      "text/plain": [
       "-3529.250504864685"
      ]
     },
     "execution_count": 27,
     "metadata": {},
     "output_type": "execute_result"
    }
   ],
   "source": [
    "y.score(raw_small)"
   ]
  },
  {
   "cell_type": "code",
   "execution_count": null,
   "metadata": {},
   "outputs": [],
   "source": []
  }
 ],
 "metadata": {
  "kernelspec": {
   "display_name": "Python 3",
   "language": "python",
   "name": "python3"
  },
  "language_info": {
   "codemirror_mode": {
    "name": "ipython",
    "version": 3
   },
   "file_extension": ".py",
   "mimetype": "text/x-python",
   "name": "python",
   "nbconvert_exporter": "python",
   "pygments_lexer": "ipython3",
   "version": "3.8.0"
  }
 },
 "nbformat": 4,
 "nbformat_minor": 4
}
