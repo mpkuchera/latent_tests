{
 "cells": [
  {
   "cell_type": "markdown",
   "metadata": {},
   "source": [
    "## Testing the standard deviation of multiple clustering attempts of VGG16 latent space AT-TPC data"
   ]
  },
  {
   "cell_type": "code",
   "execution_count": 1,
   "metadata": {},
   "outputs": [],
   "source": [
    "import numpy as np\n",
    "#import tensorflow as tf\n",
    "import sklearn as sk\n",
    "from sklearn.cluster import KMeans\n",
    "import matplotlib.pyplot as plt"
   ]
  },
  {
   "cell_type": "code",
   "execution_count": 2,
   "metadata": {},
   "outputs": [],
   "source": [
    "A = np.load(\"vgg_repr.npz\")"
   ]
  },
  {
   "cell_type": "code",
   "execution_count": 3,
   "metadata": {},
   "outputs": [
    {
     "name": "stdout",
     "output_type": "stream",
     "text": [
      "raw_data\n",
      "filtered_data\n",
      "filtered_targets\n",
      "raw_targets\n"
     ]
    }
   ],
   "source": [
    "for k in A.keys():\n",
    "    print(k)"
   ]
  },
  {
   "cell_type": "code",
   "execution_count": 4,
   "metadata": {},
   "outputs": [],
   "source": [
    "raw = A[\"raw_data\"]\n",
    "filt = A[\"filtered_data\"]\n",
    "raw_t = A[\"raw_targets\"]\n",
    "filt_t = A[\"filtered_targets\"]"
   ]
  },
  {
   "cell_type": "markdown",
   "metadata": {},
   "source": [
    "Just taking first 100 points for testing bc algo should be $N^2$"
   ]
  },
  {
   "cell_type": "code",
   "execution_count": 42,
   "metadata": {},
   "outputs": [
    {
     "name": "stdout",
     "output_type": "stream",
     "text": [
      "(51891, 8192)\n",
      "(100, 8192)\n"
     ]
    }
   ],
   "source": [
    "print(raw.shape)\n",
    "raw_small = raw[:100]\n",
    "print(raw_small.shape)"
   ]
  },
  {
   "cell_type": "code",
   "execution_count": 43,
   "metadata": {},
   "outputs": [],
   "source": [
    "N = 10\n",
    "y = []\n",
    "for i in range(N):\n",
    "    y.append(KMeans(n_clusters=3, n_init=1).fit(raw_small))\n",
    "\n"
   ]
  },
  {
   "cell_type": "code",
   "execution_count": 44,
   "metadata": {},
   "outputs": [
    {
     "name": "stdout",
     "output_type": "stream",
     "text": [
      "(3, 8192)\n",
      "(3, 8192)\n",
      "0.02730237734880409\n",
      "0.023283651422263102\n",
      "0.03800537464783069\n"
     ]
    },
    {
     "data": {
      "image/png": "[encoded data removed]",
      "text/plain": [
       "<Figure size 432x288 with 1 Axes>"
      ]
     },
     "metadata": {
      "needs_background": "light"
     },
     "output_type": "display_data"
    }
   ],
   "source": [
    "#print(y)\n",
    "\n",
    "centers = []\n",
    "for i in range(N):\n",
    "    centers.append(y[i].cluster_centers_)\n",
    "centers = np.array(centers)\n",
    "center_means = np.mean(centers, axis=0)\n",
    "center_std = np.std(centers, axis=0)\n",
    "\n",
    "print(center_means.shape)\n",
    "print(center_std.shape)\n",
    "\n",
    "plt.hist(center_std[0])\n",
    "plt.hist(center_std[1])\n",
    "plt.hist(center_std[2])\n",
    "\n",
    "print(sum(center_std[0])/len(center_std[0]))\n",
    "print(sum(center_std[1])/len(center_std[1]))\n",
    "print(sum(center_std[2])/len(center_std[2]))\n",
    "#y1 = KMeans(n_clusters=3, n_init=1).fit(raw_small)\n",
    "#y2 = KMeans(n_clusters=3, n_init=1).fit(raw_small)\n",
    "#y3 = KMeans(n_clusters=3, n_init=1).fit(raw_small)"
   ]
  },
  {
   "cell_type": "code",
   "execution_count": 50,
   "metadata": {},
   "outputs": [
    {
     "name": "stdout",
     "output_type": "stream",
     "text": [
      "[1 1 1 1 1 1 1 1 1 1 1 1 1 1 1 1 1 2 1 1 1 1 1 1 1 0 1 1 1 1 0 1 1 1 1 1 1\n",
      " 1 0 1 1 1 1 1 0 0 1 1 1 1 1 1 1 1 1 1 1 1 1 1 1 1 1 1 1 1 1 1 1 1 1 1 1 1\n",
      " 1 1 1 1 1 1 1 1 1 1 1 1 1 1 1 1 1 0 1 1 1 1 1 1 1 1]\n",
      "[1 1 1 1 1 1 1 2 2 2 1 1 1 1 1 2 1 0 2 1 1 1 1 1 1 0 1 1 2 2 0 1 2 2 1 1 1\n",
      " 2 0 2 2 1 1 1 0 0 0 1 2 2 1 1 2 2 2 1 1 1 1 1 2 2 2 2 2 2 1 2 2 1 1 2 2 2\n",
      " 0 2 1 1 1 1 2 2 2 2 1 2 1 1 1 1 1 0 2 1 1 1 1 2 1 1]\n",
      "[0 0 0 0 0 0 0 1 1 1 0 0 0 0 0 1 0 2 1 0 0 0 0 0 0 2 0 0 1 1 1 0 1 1 0 0 0\n",
      " 1 2 1 1 0 0 0 2 2 1 0 1 1 0 0 1 1 1 0 0 0 0 0 1 1 1 1 1 1 0 1 1 0 0 1 1 1\n",
      " 1 1 0 0 0 0 1 1 1 1 0 1 0 0 0 0 0 2 1 0 0 0 0 1 0 0]\n",
      "(100,)\n",
      "40\n",
      "106\n",
      "0.0\n",
      "0.0\n",
      "0.0\n",
      "0.93\n",
      "0.55\n",
      "0.39\n"
     ]
    }
   ],
   "source": [
    "print(y[0].labels_)\n",
    "print(y[1].labels_)\n",
    "print(y[2].labels_)\n",
    "print(y[0].labels_.shape)\n",
    "print(np.sum(abs(y[0].labels_-y[1].labels_)))\n",
    "print(np.sum(abs(y[1].labels_-y[2].labels_)))\n",
    "#print(y.cluster_centers_)\n",
    "print(sk.metrics.adjusted_rand_score(np.argmax(raw_t[:100], axis=1), y[0].labels_[:100]))\n",
    "print(sk.metrics.adjusted_rand_score(np.argmax(raw_t[:100], axis=1), y[1].labels_[:100]))\n",
    "print(sk.metrics.adjusted_rand_score(np.argmax(raw_t[:100], axis=1), y[2].labels_[:100]))\n",
    "\n",
    "\n",
    "print(sk.metrics.accuracy_score(np.argmax(raw_t[:100], axis=1), y[0].labels_[:100]))\n",
    "print(sk.metrics.accuracy_score(np.argmax(raw_t[:100], axis=1), y[1].labels_[:100]))\n",
    "print(sk.metrics.accuracy_score(np.argmax(raw_t[:100], axis=1), y[2].labels_[:100]))"
   ]
  },
  {
   "cell_type": "code",
   "execution_count": 47,
   "metadata": {},
   "outputs": [
    {
     "name": "stdout",
     "output_type": "stream",
     "text": [
      "[[ 1.46856729e-01  0.00000000e+00  0.00000000e+00 ...  3.27548782e-02\n",
      "   8.17138990e-01  0.00000000e+00]\n",
      " [ 1.31745275e-01  0.00000000e+00  0.00000000e+00 ...  1.22565979e-04\n",
      "   7.60672009e-01  0.00000000e+00]\n",
      " [ 1.21800504e-01  0.00000000e+00  0.00000000e+00 ... -1.73472348e-18\n",
      "   7.16895221e-01  0.00000000e+00]]\n",
      "[[ 1.31745275e-01  0.00000000e+00  0.00000000e+00 ...  1.22565979e-04\n",
      "   7.60672009e-01  0.00000000e+00]\n",
      " [ 1.21286502e-01  0.00000000e+00  0.00000000e+00 ... -1.73472348e-18\n",
      "   7.15405712e-01  0.00000000e+00]\n",
      " [ 1.62725856e-01  0.00000000e+00  0.00000000e+00 ...  4.91323173e-02\n",
      "   8.76942684e-01  0.00000000e+00]]\n"
     ]
    }
   ],
   "source": [
    "#print(y1.cluster_centers_)\n",
    "print(y[1].cluster_centers_)\n",
    "print(y[2].cluster_centers_)"
   ]
  },
  {
   "cell_type": "code",
   "execution_count": 48,
   "metadata": {},
   "outputs": [
    {
     "ename": "AttributeError",
     "evalue": "'list' object has no attribute 'cluster_centers_'",
     "output_type": "error",
     "traceback": [
      "\u001b[0;31m---------------------------------------------------------------------------\u001b[0m",
      "\u001b[0;31mAttributeError\u001b[0m                            Traceback (most recent call last)",
      "\u001b[0;32m<ipython-input-48-83f996a24acc>\u001b[0m in \u001b[0;36m<module>\u001b[0;34m\u001b[0m\n\u001b[0;32m----> 1\u001b[0;31m \u001b[0mplt\u001b[0m\u001b[0;34m.\u001b[0m\u001b[0mhist\u001b[0m\u001b[0;34m(\u001b[0m\u001b[0my\u001b[0m\u001b[0;34m.\u001b[0m\u001b[0mcluster_centers_\u001b[0m\u001b[0;34m[\u001b[0m\u001b[0;36m0\u001b[0m\u001b[0;34m]\u001b[0m\u001b[0;34m)\u001b[0m\u001b[0;34m\u001b[0m\u001b[0;34m\u001b[0m\u001b[0m\n\u001b[0m\u001b[1;32m      2\u001b[0m \u001b[0;31m#plt.hist(y.cluster_centers_[1])\u001b[0m\u001b[0;34m\u001b[0m\u001b[0;34m\u001b[0m\u001b[0;34m\u001b[0m\u001b[0m\n\u001b[1;32m      3\u001b[0m \u001b[0;31m#plt.hist(y.cluster_centers_[2])\u001b[0m\u001b[0;34m\u001b[0m\u001b[0;34m\u001b[0m\u001b[0;34m\u001b[0m\u001b[0m\n\u001b[1;32m      4\u001b[0m \u001b[0my\u001b[0m\u001b[0;34m.\u001b[0m\u001b[0minertia_\u001b[0m\u001b[0;34m\u001b[0m\u001b[0;34m\u001b[0m\u001b[0m\n",
      "\u001b[0;31mAttributeError\u001b[0m: 'list' object has no attribute 'cluster_centers_'"
     ]
    }
   ],
   "source": [
    "plt.hist(y.cluster_centers_[0])\n",
    "#plt.hist(y.cluster_centers_[1])\n",
    "#plt.hist(y.cluster_centers_[2])\n",
    "y.inertia_"
   ]
  },
  {
   "cell_type": "code",
   "execution_count": 27,
   "metadata": {},
   "outputs": [
    {
     "data": {
      "text/plain": [
       "-3529.250504864685"
      ]
     },
     "execution_count": 27,
     "metadata": {},
     "output_type": "execute_result"
    }
   ],
   "source": [
    "y.score(raw_small)"
   ]
  },
  {
   "cell_type": "code",
   "execution_count": 14,
   "metadata": {},
   "outputs": [],
   "source": [
    "N = 10\n",
    "y = []\n",
    "for i in range(N):\n",
    "    y.append(KMeans(n_clusters=3, n_init=1).fit(raw))\n",
    "\n",
    "\n"
   ]
  },
  {
   "cell_type": "code",
   "execution_count": 15,
   "metadata": {},
   "outputs": [
    {
     "name": "stdout",
     "output_type": "stream",
     "text": [
      "(3, 8192)\n",
      "(3, 8192)\n",
      "0.018839168639621755\n",
      "0.019520313963913058\n",
      "0.018263405632276315\n"
     ]
    },
    {
     "data": {
      "image/png": "[encoded data removed]",
      "text/plain": [
       "<Figure size 432x288 with 1 Axes>"
      ]
     },
     "metadata": {
      "needs_background": "light"
     },
     "output_type": "display_data"
    }
   ],
   "source": [
    "centers = []\n",
    "for i in range(N):\n",
    "    centers.append(y[i].cluster_centers_)\n",
    "centers = np.array(centers)\n",
    "center_means = np.mean(centers, axis=0)\n",
    "center_std = np.std(centers, axis=0)\n",
    "\n",
    "print(center_means.shape)\n",
    "print(center_std.shape)\n",
    "\n",
    "plt.hist(center_std[0])\n",
    "plt.hist(center_std[1])\n",
    "plt.hist(center_std[2])\n",
    "\n",
    "print(sum(center_std[0])/len(center_std[0]))\n",
    "print(sum(center_std[1])/len(center_std[1]))\n",
    "print(sum(center_std[2])/len(center_std[2]))\n"
   ]
  },
  {
   "cell_type": "code",
   "execution_count": 55,
   "metadata": {},
   "outputs": [
    {
     "name": "stdout",
     "output_type": "stream",
     "text": [
      "[1 1 1 ... 1 1 1]\n",
      "[1 1 1 ... 2 1 1]\n",
      "[0 0 0 ... 1 0 0]\n"
     ]
    }
   ],
   "source": [
    "np.set_printoptions(threshold=50)\n",
    "print(y[0].labels_)\n",
    "print(y[1].labels_)\n",
    "print(y[2].labels_)"
   ]
  },
  {
   "cell_type": "code",
   "execution_count": 36,
   "metadata": {},
   "outputs": [
    {
     "name": "stdout",
     "output_type": "stream",
     "text": [
      "-0.00541606762316851\n",
      "-0.00541606762316851\n",
      "-0.00541606762316851\n"
     ]
    }
   ],
   "source": [
    "print(sk.metrics.adjusted_rand_score(np.argmax(raw_t, axis=1), y[0].labels_[:1774]))\n",
    "print(sk.metrics.adjusted_rand_score(np.argmax(raw_t, axis=1), y[1].labels_[:1774]))\n",
    "print(sk.metrics.adjusted_rand_score(np.argmax(raw_t, axis=1), y[2].labels_[:1774]))\n",
    "#print(len(raw_t))\n",
    "#print(len(raw))"
   ]
  },
  {
   "cell_type": "markdown",
   "metadata": {},
   "source": [
    "WTF is with ARI?"
   ]
  },
  {
   "cell_type": "code",
   "execution_count": 54,
   "metadata": {},
   "outputs": [
    {
     "name": "stdout",
     "output_type": "stream",
     "text": [
      "0.6190476190476191\n",
      "0.5454545454545454\n"
     ]
    }
   ],
   "source": [
    "pred = [1,1,1,2,3,3,3,2] \n",
    "true = [1,1,2,2,3,3,3,2]\n",
    "\n",
    "pred2 = [1,1,2,2,2,3,3,2] \n",
    "true2 = [1,1,2,2,3,3,3,2]\n",
    "print(sk.metrics.adjusted_rand_score(true, pred))\n",
    "print(sk.metrics.adjusted_rand_score(true2, pred2))"
   ]
  },
  {
   "cell_type": "code",
   "execution_count": null,
   "metadata": {},
   "outputs": [],
   "source": []
  }
 ],
 "metadata": {
  "kernelspec": {
   "display_name": "Python 3",
   "language": "python",
   "name": "python3"
  },
  "language_info": {
   "codemirror_mode": {
    "name": "ipython",
    "version": 3
   },
   "file_extension": ".py",
   "mimetype": "text/x-python",
   "name": "python",
   "nbconvert_exporter": "python",
   "pygments_lexer": "ipython3",
   "version": "3.8.0"
  }
 },
 "nbformat": 4,
 "nbformat_minor": 4
}
